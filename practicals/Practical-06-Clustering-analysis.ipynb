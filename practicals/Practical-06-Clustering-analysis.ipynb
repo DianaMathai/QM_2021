{
 "cells": [
  {
   "cell_type": "markdown",
   "metadata": {},
   "source": [
    "<div style=\"float:left\">\n",
    "            <h1 style=\"width:450px\">CASA0007 Practical 6: Clustering Analysis</h1>\n",
    "</div>\n",
    "<div style=\"float:right\"><img width=\"100\" src=\"https://github.com/jreades/i2p/raw/master/img/casa_logo.jpg\" /></div>"
   ]
  },
  {
   "cell_type": "markdown",
   "metadata": {},
   "source": [
    "Welcome!\n",
    "\n",
    "In this practical, we will apply kmeans clustering analysis to different datasets.\n",
    "\n",
    "The objectives of this practical include:\n",
    "- Conducting kmeans clustering using *sklearn*;\n",
    "- Plotting the clustering results;\n",
    "- Using Siluette score to get the *optimal number of clusters*."
   ]
  },
  {
   "cell_type": "markdown",
   "metadata": {},
   "source": [
    "## Import pacakges"
   ]
  },
  {
   "cell_type": "code",
   "execution_count": 37,
   "metadata": {},
   "outputs": [],
   "source": [
    "# K-MEANS CLUSTERING IN PYTHON\n",
    "\n",
    "# The following lines import the necessary packages. You can ignore them.\n",
    "import matplotlib.cm\n",
    "from matplotlib import colors\n",
    "import matplotlib.pyplot as plt # For plotting\n",
    "import numpy as np              # For working with numerical data\n",
    "import sklearn.cluster as sklc  # For clustering\n",
    "import sklearn.metrics as sklm  # For the silhouette score\n",
    "import pandas as pd\n",
    "\n",
    "# This program performs a k-means clustering on data stored in a csv file,\n",
    "\n",
    "# The data file must be two columns of numbers, the x values and y values - no column labels, etc.\n",
    "# It must be saved as a csv file (e.g. use \"Save As\" in Excel and choose csv format).\n",
    "# It must be saved in the same folder as this program.\n",
    "# See the file clustering_example_data.csv for reference.\n",
    "\n",
    "# [Actually, the file can have more than two columns. The clustering works for data with many fields.\n",
    "# However, it will only plot the first two columns against each other, for obvious reasons.]\n",
    "\n",
    "# This program plots:\n",
    "#   - A scatter plot of all the data, unclustered;\n",
    "#   - A scatter plot of each cluster separately;\n",
    "#   - A scatter plot of all the data, coloured by cluster.\n",
    "# All of these plots are saved to your computer, in the same folder as this Python file.\n",
    "\n",
    "# This program also saves a csv file of the original data, with an extra column,...\n",
    "# indicating which cluster each point has been assigned to.\n",
    "\n",
    "# The program also prints the silhouette score for your clustering...\n",
    "# This is a measure of how well the data is clustered, from -1 (extremely poor) to 1 (extremely strong)."
   ]
  },
  {
   "cell_type": "markdown",
   "metadata": {},
   "source": [
    "## Import data\n",
    "\n",
    "The input data for the kmeans clustering is a dataframe, with rows and columns representing data records and attributes (or variables), respectively.\n",
    "\n",
    "The clustering works for data with many fields. For illustration, we will use a very simple data example containing only two columns.\n"
   ]
  },
  {
   "cell_type": "code",
   "execution_count": 64,
   "metadata": {},
   "outputs": [
    {
     "name": "stdout",
     "output_type": "stream",
     "text": [
      "   Var_0  Var_1\n",
      "0   10.4   13.0\n",
      "1   11.6   11.4\n",
      "2    5.6   10.7\n",
      "3    6.8   13.0\n",
      "4   11.5   10.5\n",
      "5    5.8    9.4\n",
      "6    9.9   10.8\n"
     ]
    }
   ],
   "source": [
    "# This line sets the number of clusters you want to find:\n",
    "num_clusters = 2\n",
    "\n",
    "file_data_simple = 'https://github.com/huanfachen/QM_2021/raw/main/data/clustering_example_data_simple.csv'\n",
    "data = pd.read_csv(file_data_simple, header=None)\n",
    "# header=None means that there is no header int this file\n",
    "data.columns = ['Var_0', 'Var_1']\n",
    "#You can print it to have a look if you want:\n",
    "print(data)"
   ]
  },
  {
   "cell_type": "code",
   "execution_count": 66,
   "metadata": {},
   "outputs": [
    {
     "data": {
      "text/plain": [
       "Text(0.5, 1.0, 'Scatter plot of simple data')"
      ]
     },
     "execution_count": 66,
     "metadata": {},
     "output_type": "execute_result"
    },
    {
     "data": {
      "image/png": "[encoded data removed]",
      "text/plain": [
       "<Figure size 432x288 with 1 Axes>"
      ]
     },
     "metadata": {
      "needs_background": "light"
     },
     "output_type": "display_data"
    }
   ],
   "source": [
    "# a scatter plot of this data\n",
    "ax = data.plot.scatter(x = 'Var_0', y = 'Var_1')\n",
    "ax.set_xlabel(\"First attribute\")\n",
    "ax.set_ylabel(\"Second attribute\")\n",
    "ax.set_title(\"Scatter plot of simple data\")"
   ]
  },
  {
   "cell_type": "markdown",
   "metadata": {},
   "source": [
    "## Kmeans clustering"
   ]
  },
  {
   "cell_type": "markdown",
   "metadata": {},
   "source": [
    "We will use the KMeans function from sklearn to conduct the clustering analysis. This is the the [documentation](https://scikit-learn.org/stable/modules/generated/sklearn.cluster.KMeans.html).\n",
    "\n",
    "There are many parameters of kmeans. Two of the most important parameters are :\n",
    "\n",
    "- **n_clusters**: specify the number of clusters that will form.\n",
    "- **random_state**: Determines random number generation for centroid initialization. For complex data, if you want to make the kmeans result reproducible, it is advisable to fix the random_state parameter."
   ]
  },
  {
   "cell_type": "code",
   "execution_count": 68,
   "metadata": {},
   "outputs": [
    {
     "name": "stdout",
     "output_type": "stream",
     "text": [
      "KMeans(n_clusters=2, random_state=100)\n"
     ]
    }
   ],
   "source": [
    "# we fix the random_state so that the kmeans result is reproducible\n",
    "random_state_seed = 100\n",
    "kmeans_output = sklc.KMeans(n_clusters=num_clusters, random_state=random_state_seed).fit(data)\n",
    "\n",
    "# Sanity check\n",
    "print(kmeans_output)                                                "
   ]
  },
  {
   "cell_type": "code",
   "execution_count": 69,
   "metadata": {},
   "outputs": [
    {
     "name": "stdout",
     "output_type": "stream",
     "text": [
      "[0 0 1 1 0 1 0]\n"
     ]
    }
   ],
   "source": [
    "# This line creates a list giving the final cluster number of each point:\n",
    "clustering_ids_kmeans = kmeans_output.labels_\n",
    "\n",
    "# You can print the clustering IDs to get an ordered list of labels\n",
    "print(clustering_ids_kmeans)"
   ]
  },
  {
   "cell_type": "code",
   "execution_count": 70,
   "metadata": {},
   "outputs": [
    {
     "name": "stdout",
     "output_type": "stream",
     "text": [
      "   Var_0  Var_1  cluster_id\n",
      "0   10.4   13.0           0\n",
      "1   11.6   11.4           0\n",
      "2    5.6   10.7           1\n",
      "3    6.8   13.0           1\n",
      "4   11.5   10.5           0\n",
      "5    5.8    9.4           1\n",
      "6    9.9   10.8           0\n"
     ]
    }
   ],
   "source": [
    "# we will combine the clustering IDs to the dataframe\n",
    "\n",
    "data = data.assign(cluster_id = clustering_ids_kmeans)\n",
    "\n",
    "#Have a look at the result:\n",
    "print(data)"
   ]
  },
  {
   "cell_type": "markdown",
   "metadata": {},
   "source": [
    "Now we will visualise the clusters using different colours on the scatter plot.\n",
    "\n",
    "We will use an existing colour map from the *get_cmp* function.\n",
    "\n",
    "If you want to know more about Choosing Colormaps in Matplotlib, [this post](https://matplotlib.org/stable/tutorials/colors/colormaps.html) is recommended.\n",
    "\n",
    "The code below is motivated by [this OverStackFlow post](https://stackoverflow.com/a/50314773/4667568)."
   ]
  },
  {
   "cell_type": "code",
   "execution_count": 71,
   "metadata": {},
   "outputs": [
    {
     "data": {
      "image/png": "[encoded data removed]",
      "text/plain": [
       "<Figure size 864x576 with 2 Axes>"
      ]
     },
     "metadata": {
      "needs_background": "light"
     },
     "output_type": "display_data"
    }
   ],
   "source": [
    "fig, ax = plt.subplots(figsize=(12,8))\n",
    "\n",
    "# number of clusters\n",
    "n_clusters = data.cluster_id.nunique()\n",
    "\n",
    "# get discrete colormap\n",
    "cmap = plt.get_cmap('Spectral', n_clusters)\n",
    "\n",
    "# scatter points\n",
    "scatter = ax.scatter(data.Var_0, data.Var_1, c=data.cluster_id, cmap=cmap)\n",
    "ax.set_xlabel('First Attribute')\n",
    "ax.set_ylabel('Second Attribute')\n",
    "ax.set_title('Clustering result')\n",
    "\n",
    "# add colorbar\n",
    "cbar = plt.colorbar(scatter)\n",
    "\n",
    "# set ticks locations (not very elegant, but it works):\n",
    "# - shift by 0.5\n",
    "# - scale so that the last value is at the center of the last color\n",
    "tick_locs = (np.arange(n_clusters) + 0.5)*(n_clusters-1)/n_clusters\n",
    "cbar.set_ticks(tick_locs)\n",
    "\n",
    "# set tick labels (as before)\n",
    "cbar.set_ticklabels(np.arange(n_clusters))"
   ]
  },
  {
   "cell_type": "markdown",
   "metadata": {},
   "source": [
    "The result above looks a bit simple (and *boring*): we generated two clusters from seven data records.\n",
    "\n",
    "Remember in mind - once you master the techinques and codes of kmeans, you can easily apply these skills to a complex dataset.\n",
    "\n",
    "But, before we switch to a complex data, we will do something advanced: calculate the Silouette score of kmeans and choose the optimal **k**."
   ]
  },
  {
   "cell_type": "markdown",
   "metadata": {},
   "source": [
    "## Silouette score"
   ]
  },
  {
   "cell_type": "markdown",
   "metadata": {},
   "source": [
    "We will use the silhouette_score function from sklearn.metrics to calculate the Silouette score."
   ]
  },
  {
   "cell_type": "code",
   "execution_count": 12,
   "metadata": {},
   "outputs": [
    {
     "name": "stdout",
     "output_type": "stream",
     "text": [
      "Silhouette Score: 0.5651142730328408\n"
     ]
    }
   ],
   "source": [
    "# These lines calculate the silhouette score...\n",
    "silhouette_kmeans = sklm.silhouette_score(data,clustering_ids_kmeans)\n",
    "\n",
    "# ... and print it:\n",
    "print(\"Silhouette Score:\", silhouette_kmeans)"
   ]
  },
  {
   "cell_type": "markdown",
   "metadata": {},
   "source": [
    "How about plotting the Silhouette plot for different k values and selecting the optimal **k**?\n",
    "\n",
    "We will use some of the functions from [this  post](https://scikit-learn.org/stable/auto_examples/cluster/plot_kmeans_silhouette_analysis.html). \n",
    "\n",
    "Here, we simplify the Silhouette analysis by only looking at the average Silhouette score: the larger the average Silhouette score, the better the clustering result."
   ]
  },
  {
   "cell_type": "code",
   "execution_count": 77,
   "metadata": {},
   "outputs": [
    {
     "name": "stdout",
     "output_type": "stream",
     "text": [
      "For n_clusters = 2 The average silhouette_score is : 0.5651142730328408\n",
      "For n_clusters = 3 The average silhouette_score is : 0.4793535192972042\n",
      "For n_clusters = 4 The average silhouette_score is : 0.31997148057267893\n"
     ]
    }
   ],
   "source": [
    "X = data[['Var_0', 'Var_1']]\n",
    "random_state_seed = 10\n",
    "df_silhouette_score = pd.DataFrame({'n_cluster':[2,3,4], 'silhouette_score':[0,0,0]})\n",
    "for index, row in df_silhouette_score.iterrows():\n",
    "    n_clusters = row['n_cluster']\n",
    "    clusterer = sklc.KMeans(n_clusters=n_clusters, random_state=random_state_seed)\n",
    "    cluster_labels = clusterer.fit_predict(X)\n",
    "    # The silhouette_score gives the average value for all the samples.\n",
    "    # This gives a perspective into the density and separation of the formed\n",
    "    # clusters\n",
    "    silhouette_avg = sklm.silhouette_score(X, cluster_labels)\n",
    "    print(\n",
    "        \"For n_clusters =\",\n",
    "        n_clusters,\n",
    "        \"The average silhouette_score is :\",\n",
    "        silhouette_avg,\n",
    "    )\n",
    "    row['silhouette_score'] = silhouette_avg"
   ]
  },
  {
   "cell_type": "markdown",
   "metadata": {},
   "source": [
    "From the result above, the value of two cluster generates the highest average Silhouette score, therefore we will choose k=2 for the kmeans analysis of this dataset. "
   ]
  },
  {
   "cell_type": "markdown",
   "metadata": {},
   "source": [
    "## Conclusions\n",
    "\n",
    "We have applied the kmean clustering to a very simple dataset, as well as plotting the clusters on a scatter plot and using Silhouette analysis to select the optimal **k** value.\n",
    "\n",
    "Now, can you try these techniques to other datasets and describe/validate the generated clusters?\n",
    "\n",
    "- The Index of Multiple Deprivation 2019 dataset;\n",
    "- The "
   ]
  },
  {
   "cell_type": "markdown",
   "metadata": {},
   "source": [
    "## Credits\n",
    "### Contributors:\n",
    "The following individuals have contributed to these teaching materials: Thomas Evans, Hannah Fry, [Huanfa Chen](huanfa.chen@ucl.ac.uk)\n",
    "\n",
    "### License\n",
    "These teaching materials are licensed under a mix of The MIT License and the Creative Commons Attribution-NonCommercial-ShareAlike 4.0 license.\n",
    "\n",
    "### Acknowledgements\n",
    "NA\n",
    "\n",
    "### Dependencies\n",
    "This notebook depends on the following libraries: sklearn, matplotlib, numpy, pandas"
   ]
  }
 ],
 "metadata": {
  "kernelspec": {
   "display_name": "Python 3.10.5 ('base')",
   "language": "python",
   "name": "python3"
  },
  "language_info": {
   "codemirror_mode": {
    "name": "ipython",
    "version": 3
   },
   "file_extension": ".py",
   "mimetype": "text/x-python",
   "name": "python",
   "nbconvert_exporter": "python",
   "pygments_lexer": "ipython3",
   "version": "3.10.5"
  },
  "toc": {
   "base_numbering": 1,
   "nav_menu": {},
   "number_sections": true,
   "sideBar": true,
   "skip_h1_title": false,
   "title_cell": "Table of Contents",
   "title_sidebar": "Contents",
   "toc_cell": false,
   "toc_position": {},
   "toc_section_display": true,
   "toc_window_display": false
  },
  "vscode": {
   "interpreter": {
    "hash": "d4d1e4263499bec80672ea0156c357c1ee493ec2b1c70f0acce89fc37c4a6abe"
   }
  }
 },
 "nbformat": 4,
 "nbformat_minor": 4
}
